{
  "nbformat": 4,
  "nbformat_minor": 0,
  "metadata": {
    "colab": {
      "provenance": [],
      "authorship_tag": "ABX9TyPYcKZ4imG2KM3S3rF2ovsq"
    },
    "kernelspec": {
      "name": "python3",
      "display_name": "Python 3"
    },
    "language_info": {
      "name": "python"
    }
  },
  "cells": [
    {
      "cell_type": "code",
      "execution_count": 38,
      "metadata": {
        "id": "9aNVBpSnVbcp",
        "colab": {
          "base_uri": "https://localhost:8080/"
        },
        "outputId": "3d132c03-259d-48ee-be39-9b4319546f22"
      },
      "outputs": [
        {
          "output_type": "stream",
          "name": "stdout",
          "text": [
            "年齢18\n",
            "18は大人ではありません\n",
            "年齢35\n",
            "Bは大人です\n",
            "年齢18\n",
            "18は大人ではありません\n"
          ]
        }
      ],
      "source": [
        "class Human:\n",
        "  def __init__(self, name, age):\n",
        "    self.name =  name\n",
        "    self.age = age\n",
        "\n",
        "  def check_adult(self, name, age):\n",
        "    self.name = name\n",
        "    self.age =  age\n",
        "    if self.age >= 20:\n",
        "      print(f'{self.name}は大人です')\n",
        "    else:\n",
        "      print(f'{self.age}は大人ではありません')\n",
        "\n",
        "A = Human('A', 18)\n",
        "B = Human('B', 35)\n",
        "C = Human('C', 7)\n",
        "\n",
        "list = ['A', 'B', 'C']\n",
        "\n",
        "i = 0\n",
        "for i in range(len(list)):\n",
        "  human.check_adult(list[i], int(input('年齢')))\n",
        "  i += 1\n",
        "\n",
        "\n"
      ]
    },
    {
      "cell_type": "code",
      "source": [],
      "metadata": {
        "id": "5LVUot-QLYzZ"
      },
      "execution_count": null,
      "outputs": []
    }
  ]
}