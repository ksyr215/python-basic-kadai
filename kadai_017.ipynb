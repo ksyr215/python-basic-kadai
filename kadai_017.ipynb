{
  "nbformat": 4,
  "nbformat_minor": 0,
  "metadata": {
    "colab": {
      "provenance": [],
      "authorship_tag": "ABX9TyNmePZsSPEnoV3CDAHznr7z"
    },
    "kernelspec": {
      "name": "python3",
      "display_name": "Python 3"
    },
    "language_info": {
      "name": "python"
    }
  },
  "cells": [
    {
      "cell_type": "code",
      "execution_count": 49,
      "metadata": {
        "id": "9aNVBpSnVbcp",
        "colab": {
          "base_uri": "https://localhost:8080/"
        },
        "outputId": "7ece1130-e798-415f-b693-d77669de5d3c"
      },
      "outputs": [
        {
          "output_type": "stream",
          "name": "stdout",
          "text": [
            "年齢20\n",
            "Aは大人です\n",
            "年齢18\n",
            "18は大人ではありません\n",
            "年齢7\n",
            "7は大人ではありません\n"
          ]
        }
      ],
      "source": [
        "class Human:\n",
        "  def __init__(self, name, age):\n",
        "    self.name =  name\n",
        "    self.age = age\n",
        "\n",
        "  def check_adult(self, name, age):\n",
        "    self.name = name\n",
        "    self.age =  age\n",
        "    if self.age >= 20:\n",
        "      print(f'{self.name}は大人です')\n",
        "    else:\n",
        "      print(f'{self.age}は大人ではありません')\n",
        "\n",
        "human = Human('', '')\n",
        "\n",
        "list = ['A', 'B', 'C',]\n",
        "\n",
        "i = 0\n",
        "for i in range(len(list)):\n",
        "  human.check_adult(list[i], int(input('年齢')))\n",
        "  i += 1\n",
        "\n",
        "\n"
      ]
    },
    {
      "cell_type": "code",
      "source": [],
      "metadata": {
        "id": "5LVUot-QLYzZ"
      },
      "execution_count": null,
      "outputs": []
    }
  ]
}