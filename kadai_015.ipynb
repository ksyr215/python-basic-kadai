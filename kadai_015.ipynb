{
  "nbformat": 4,
  "nbformat_minor": 0,
  "metadata": {
    "colab": {
      "provenance": [],
      "authorship_tag": "ABX9TyODYGBXhcZaw8WYo6NmybUD"
    },
    "kernelspec": {
      "name": "python3",
      "display_name": "Python 3"
    },
    "language_info": {
      "name": "python"
    }
  },
  "cells": [
    {
      "cell_type": "code",
      "execution_count": 1,
      "metadata": {
        "colab": {
          "base_uri": "https://localhost:8080/"
        },
        "id": "84yeRI1ESwpN",
        "outputId": "c3346103-0987-45b1-97c9-35486f282082"
      },
      "outputs": [
        {
          "output_type": "stream",
          "name": "stdout",
          "text": [
            "Samurai 50\n"
          ]
        }
      ],
      "source": [
        "class Human:\n",
        "  def __init__(self, name, age):\n",
        "      self.name = name\n",
        "      self.age = age\n",
        "\n",
        "  def printinfo(name, age):\n",
        "      self.name = name\n",
        "      self.age = age\n",
        "\n",
        "my_father = Human('Samurai', 50)\n",
        "\n",
        "print(my_father.name, my_father.age)\n"
      ]
    }
  ]
}