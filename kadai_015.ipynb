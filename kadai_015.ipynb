{
  "nbformat": 4,
  "nbformat_minor": 0,
  "metadata": {
    "colab": {
      "provenance": [],
      "authorship_tag": "ABX9TyMUFXUUs4Sflqlu0VIPEkFh"
    },
    "kernelspec": {
      "name": "python3",
      "display_name": "Python 3"
    },
    "language_info": {
      "name": "python"
    }
  },
  "cells": [
    {
      "cell_type": "code",
      "execution_count": 11,
      "metadata": {
        "colab": {
          "base_uri": "https://localhost:8080/"
        },
        "id": "84yeRI1ESwpN",
        "outputId": "c9c180ac-497b-4a97-f216-c2882192a9be"
      },
      "outputs": [
        {
          "output_type": "stream",
          "name": "stdout",
          "text": [
            "Samurai 20\n"
          ]
        }
      ],
      "source": [
        "class Human:\n",
        "  def __init__(self, name, age):\n",
        "      self.name = name\n",
        "      self.age = age\n",
        "\n",
        "  def printinfo(self, name, age):\n",
        "      self.name = name\n",
        "      self.age = age\n",
        "      print(name, age)\n",
        "\n",
        "he = Human('samurai', 20)\n",
        "\n",
        "he.printinfo('Samurai', 20)"
      ]
    }
  ]
}