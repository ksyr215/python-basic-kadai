{
  "nbformat": 4,
  "nbformat_minor": 0,
  "metadata": {
    "colab": {
      "provenance": [],
      "authorship_tag": "ABX9TyP1avnbPosTw2LoqmZMhMfB"
    },
    "kernelspec": {
      "name": "python3",
      "display_name": "Python 3"
    },
    "language_info": {
      "name": "python"
    }
  },
  "cells": [
    {
      "cell_type": "code",
      "execution_count": 5,
      "metadata": {
        "colab": {
          "base_uri": "https://localhost:8080/"
        },
        "id": "84yeRI1ESwpN",
        "outputId": "069c178e-1300-418e-a85e-f39a2b707743"
      },
      "outputs": [
        {
          "output_type": "stream",
          "name": "stdout",
          "text": [
            "samurai\n",
            "20\n"
          ]
        }
      ],
      "source": [
        "class Human:\n",
        "  def __init__(self, name, age):\n",
        "      self.name = name\n",
        "      self.age = age\n",
        "\n",
        "  def printinfo(name, age):\n",
        "      self.name = name\n",
        "      self.age = age\n",
        "\n",
        "he = Human('samurai', 20)\n",
        "\n",
        "print(he.name)\n",
        "print(he.age)"
      ]
    }
  ]
}