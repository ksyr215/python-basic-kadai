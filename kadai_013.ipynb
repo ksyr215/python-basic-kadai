{
  "nbformat": 4,
  "nbformat_minor": 0,
  "metadata": {
    "colab": {
      "provenance": [],
      "authorship_tag": "ABX9TyMj5XXrOqOdZxSGR2OZNIFN"
    },
    "kernelspec": {
      "name": "python3",
      "display_name": "Python 3"
    },
    "language_info": {
      "name": "python"
    }
  },
  "cells": [
    {
      "cell_type": "code",
      "execution_count": 4,
      "metadata": {
        "colab": {
          "base_uri": "https://localhost:8080/"
        },
        "id": "McgJUiBDNdJt",
        "outputId": "f72e4ebf-a3e4-4b17-9c36-52379343be99"
      },
      "outputs": [
        {
          "output_type": "stream",
          "name": "stdout",
          "text": [
            "合計金額は1320.0円です\n"
          ]
        }
      ],
      "source": [
        "def calc_total(price, tax):\n",
        "    total = price * (1 + tax / 100)\n",
        "    print(f'合計金額は{total}円です')\n",
        "\n",
        "calc_total(1200, 10)"
      ]
    }
  ]
}