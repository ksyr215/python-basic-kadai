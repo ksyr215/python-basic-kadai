{
  "nbformat": 4,
  "nbformat_minor": 0,
  "metadata": {
    "colab": {
      "provenance": [],
      "authorship_tag": "ABX9TyMs/MpDVtnjool29dvJLw4a",
      "include_colab_link": true
    },
    "kernelspec": {
      "name": "python3",
      "display_name": "Python 3"
    },
    "language_info": {
      "name": "python"
    }
  },
  "cells": [
    {
      "cell_type": "markdown",
      "metadata": {
        "id": "view-in-github",
        "colab_type": "text"
      },
      "source": [
        "<a href=\"https://colab.research.google.com/github/ksyr215/python-basic-kadai/blob/main/kadai_008.ipynb\" target=\"_parent\"><img src=\"https://colab.research.google.com/assets/colab-badge.svg\" alt=\"Open In Colab\"/></a>"
      ]
    },
    {
      "cell_type": "code",
      "source": [
        "import random\n",
        "\n",
        "var  = random.randint(1, 100)\n",
        "\n",
        "if var %  3 == 0:\n",
        "  print('Fizz')\n",
        "elif var % 5 ==0:\n",
        "  print('Buzz')\n",
        "elif var % 15 == 0:\n",
        "  print('FizzBuzz')\n",
        "else:\n",
        "  print(var)\n"
      ],
      "metadata": {
        "id": "lji19EfS7MjL",
        "colab": {
          "base_uri": "https://localhost:8080/"
        },
        "outputId": "1e999aab-01b7-4a3b-ebf9-03030df0b07d"
      },
      "execution_count": 22,
      "outputs": [
        {
          "output_type": "stream",
          "name": "stdout",
          "text": [
            "Fizz\n"
          ]
        }
      ]
    },
    {
      "cell_type": "code",
      "execution_count": null,
      "metadata": {
        "id": "gMmQ5rnz7Ady"
      },
      "outputs": [],
      "source": []
    }
  ]
}